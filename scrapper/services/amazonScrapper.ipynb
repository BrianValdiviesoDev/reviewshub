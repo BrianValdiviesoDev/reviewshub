{
 "cells": [
  {
   "cell_type": "markdown",
   "metadata": {},
   "source": [
    "## Scrape a URL with captcha"
   ]
  },
  {
   "cell_type": "code",
   "execution_count": 1,
   "metadata": {},
   "outputs": [],
   "source": [
    "from selenium import webdriver\n",
    "from selenium.webdriver.common.by import By\n",
    "import time\n",
    "from selenium.webdriver.chrome.options import Options\n",
    "from selenium.webdriver.support import expected_conditions as EC\n",
    "from datetime import datetime\n",
    "from selenium.webdriver.support.ui import WebDriverWait\n",
    "from selenium.webdriver.support import expected_conditions as EC\n",
    "from selenium.webdriver.chrome.options import Options"
   ]
  },
  {
   "cell_type": "markdown",
   "metadata": {},
   "source": [
    "__Set URL to scrape__"
   ]
  },
  {
   "cell_type": "code",
   "execution_count": 2,
   "metadata": {},
   "outputs": [],
   "source": [
    "#url = f\"https://www.amazon.es/Cecotec-Aspirador-Tecnolog%C3%ADa-girosc%C3%B3pica-multifunci%C3%B3n/dp/B0CGRHLHJZ/ref=sr_1_6?keywords=conga&qid=1701850129&sr=8-6&ufe=app_do%3Aamzn1.fos.7911a93e-3532-4810-a632-e84fe123af2b\"\n",
    "url = 'https://www.amazon.com/s?k=Logitech+G203'"
   ]
  },
  {
   "cell_type": "markdown",
   "metadata": {},
   "source": [
    "__Run in Selenium Grid__"
   ]
  },
  {
   "cell_type": "code",
   "execution_count": 6,
   "metadata": {},
   "outputs": [],
   "source": [
    "options = Options()\n",
    "#options.add_argument(\"--headless\")\n",
    "options.add_argument(\"--no-sandbox\")\n",
    "options.add_argument(\"--disable-dev-shm-usage\")\n",
    "chrome = webdriver.Remote(\n",
    "    command_executor='http://localhost:4444/wd/hub',\n",
    "    options=options,\n",
    ")\n",
    "chrome.get(url)"
   ]
  },
  {
   "cell_type": "code",
   "execution_count": 9,
   "metadata": {},
   "outputs": [],
   "source": [
    "chrome.refresh()"
   ]
  },
  {
   "cell_type": "markdown",
   "metadata": {},
   "source": [
    "__Run in standalone__"
   ]
  },
  {
   "cell_type": "code",
   "execution_count": 3,
   "metadata": {},
   "outputs": [
    {
     "name": "stdout",
     "output_type": "stream",
     "text": [
      "https://fls-na.amazon.com/1/batch/1/OP/ATVPDKIKX0DER:140-1222902-2170639:NYXE8BSF4G6C0572P993$uedata=s:%2Frd%2Fuedata%3Fstaticb%26id%3DNYXE8BSF4G6C0572P993:0\n"
     ]
    }
   ],
   "source": [
    "chrome = webdriver.Chrome()\n",
    "chrome.get(url)\n",
    "captcha_url = chrome.find_elements(By.TAG_NAME, 'img')[0].get_attribute('src')\n",
    "print(captcha_url)"
   ]
  },
  {
   "cell_type": "markdown",
   "metadata": {},
   "source": [
    "__Take a screenshot__"
   ]
  },
  {
   "cell_type": "code",
   "execution_count": 12,
   "metadata": {},
   "outputs": [
    {
     "data": {
      "text/plain": [
       "True"
      ]
     },
     "execution_count": 12,
     "metadata": {},
     "output_type": "execute_result"
    }
   ],
   "source": [
    "options = Options()\n",
    "options.add_argument('--headless')\n",
    "chrome = webdriver.Chrome(options=options)\n",
    "chrome.set_window_size('1920', '1080')\n",
    "chrome.get(url)\n",
    "chrome.save_screenshot('screenshot.png')"
   ]
  },
  {
   "cell_type": "markdown",
   "metadata": {},
   "source": [
    "## TOR"
   ]
  },
  {
   "cell_type": "code",
   "execution_count": 1,
   "metadata": {},
   "outputs": [
    {
     "ename": "TBDriverPathError",
     "evalue": "TBB path is not a directory /path/to/tor-browser/",
     "output_type": "error",
     "traceback": [
      "\u001b[1;31m---------------------------------------------------------------------------\u001b[0m",
      "\u001b[1;31mTBDriverPathError\u001b[0m                         Traceback (most recent call last)",
      "Cell \u001b[1;32mIn[1], line 2\u001b[0m\n\u001b[0;32m      1\u001b[0m \u001b[38;5;28;01mfrom\u001b[39;00m \u001b[38;5;21;01mtbselenium\u001b[39;00m\u001b[38;5;21;01m.\u001b[39;00m\u001b[38;5;21;01mtbdriver\u001b[39;00m \u001b[38;5;28;01mimport\u001b[39;00m TorBrowserDriver\n\u001b[1;32m----> 2\u001b[0m \u001b[38;5;28;01mwith\u001b[39;00m \u001b[43mTorBrowserDriver\u001b[49m\u001b[43m(\u001b[49m\u001b[38;5;124;43m\"\u001b[39;49m\u001b[38;5;124;43m/path/to/tor-browser/\u001b[39;49m\u001b[38;5;124;43m\"\u001b[39;49m\u001b[43m)\u001b[49m \u001b[38;5;28;01mas\u001b[39;00m driver:\n\u001b[0;32m      3\u001b[0m     driver\u001b[38;5;241m.\u001b[39mget(\u001b[38;5;124m'\u001b[39m\u001b[38;5;124mhttps://check.torproject.org\u001b[39m\u001b[38;5;124m'\u001b[39m)\n\u001b[0;32m      4\u001b[0m browser\u001b[38;5;241m.\u001b[39mget(url)\n",
      "File \u001b[1;32mc:\\trabajos\\review_finder\\.venv\\Lib\\site-packages\\tbselenium\\tbdriver.py:55\u001b[0m, in \u001b[0;36mTorBrowserDriver.__init__\u001b[1;34m(self, tbb_path, tor_cfg, tbb_fx_binary_path, tbb_profile_path, tbb_logfile_path, tor_data_dir, executable_path, pref_dict, socks_port, control_port, extensions, default_bridge_type, headless, options, use_custom_profile, geckodriver_port)\u001b[0m\n\u001b[0;32m     53\u001b[0m \u001b[38;5;28mself\u001b[39m\u001b[38;5;241m.\u001b[39muse_custom_profile \u001b[38;5;241m=\u001b[39m use_custom_profile\n\u001b[0;32m     54\u001b[0m \u001b[38;5;28mself\u001b[39m\u001b[38;5;241m.\u001b[39mtor_cfg \u001b[38;5;241m=\u001b[39m tor_cfg\n\u001b[1;32m---> 55\u001b[0m \u001b[38;5;28;43mself\u001b[39;49m\u001b[38;5;241;43m.\u001b[39;49m\u001b[43msetup_tbb_paths\u001b[49m\u001b[43m(\u001b[49m\u001b[43mtbb_path\u001b[49m\u001b[43m,\u001b[49m\u001b[43m \u001b[49m\u001b[43mtbb_fx_binary_path\u001b[49m\u001b[43m,\u001b[49m\n\u001b[0;32m     56\u001b[0m \u001b[43m                     \u001b[49m\u001b[43mtbb_profile_path\u001b[49m\u001b[43m,\u001b[49m\u001b[43m \u001b[49m\u001b[43mtor_data_dir\u001b[49m\u001b[43m)\u001b[49m\n\u001b[0;32m     57\u001b[0m \u001b[38;5;28mself\u001b[39m\u001b[38;5;241m.\u001b[39moptions \u001b[38;5;241m=\u001b[39m Options() \u001b[38;5;28;01mif\u001b[39;00m options \u001b[38;5;129;01mis\u001b[39;00m \u001b[38;5;28;01mNone\u001b[39;00m \u001b[38;5;28;01melse\u001b[39;00m options\n\u001b[0;32m     58\u001b[0m install_noscript \u001b[38;5;241m=\u001b[39m \u001b[38;5;28;01mFalse\u001b[39;00m\n",
      "File \u001b[1;32mc:\\trabajos\\review_finder\\.venv\\Lib\\site-packages\\tbselenium\\tbdriver.py:166\u001b[0m, in \u001b[0;36mTorBrowserDriver.setup_tbb_paths\u001b[1;34m(self, tbb_path, tbb_fx_binary_path, tbb_profile_path, tor_data_dir)\u001b[0m\n\u001b[0;32m    164\u001b[0m \u001b[38;5;28;01mif\u001b[39;00m tbb_path:\n\u001b[0;32m    165\u001b[0m     \u001b[38;5;28;01mif\u001b[39;00m \u001b[38;5;129;01mnot\u001b[39;00m isdir(tbb_path):\n\u001b[1;32m--> 166\u001b[0m         \u001b[38;5;28;01mraise\u001b[39;00m TBDriverPathError(\u001b[38;5;124m\"\u001b[39m\u001b[38;5;124mTBB path is not a directory \u001b[39m\u001b[38;5;132;01m%s\u001b[39;00m\u001b[38;5;124m\"\u001b[39m\n\u001b[0;32m    167\u001b[0m                                 \u001b[38;5;241m%\u001b[39m tbb_path)\n\u001b[0;32m    168\u001b[0m     tbb_fx_binary_path \u001b[38;5;241m=\u001b[39m join(tbb_path, cm\u001b[38;5;241m.\u001b[39mDEFAULT_TBB_FX_BINARY_PATH)\n\u001b[0;32m    169\u001b[0m \u001b[38;5;28;01melse\u001b[39;00m:\n\u001b[0;32m    170\u001b[0m     \u001b[38;5;66;03m# based on https://github.com/webfp/tor-browser-selenium/issues/159#issue-1016463002\u001b[39;00m\n",
      "\u001b[1;31mTBDriverPathError\u001b[0m: TBB path is not a directory /path/to/tor-browser/"
     ]
    }
   ],
   "source": [
    "from tbselenium.tbdriver import TorBrowserDriver\n",
    "with TorBrowserDriver(\"/path/to/tor-browser/\") as driver:\n",
    "    driver.get(url)\n"
   ]
  },
  {
   "cell_type": "markdown",
   "metadata": {},
   "source": [
    "__Show captcha image and mock it if you need it__"
   ]
  },
  {
   "cell_type": "code",
   "execution_count": 6,
   "metadata": {},
   "outputs": [
    {
     "ename": "ModuleNotFoundError",
     "evalue": "No module named 'models'",
     "output_type": "error",
     "traceback": [
      "\u001b[1;31m---------------------------------------------------------------------------\u001b[0m",
      "\u001b[1;31mModuleNotFoundError\u001b[0m                       Traceback (most recent call last)",
      "Cell \u001b[1;32mIn[6], line 1\u001b[0m\n\u001b[1;32m----> 1\u001b[0m \u001b[38;5;28;01mimport\u001b[39;00m \u001b[38;5;21;01mrequests\u001b[39;00m\n\u001b[0;32m      2\u001b[0m \u001b[38;5;28;01mfrom\u001b[39;00m \u001b[38;5;21;01mIPython\u001b[39;00m\u001b[38;5;21;01m.\u001b[39;00m\u001b[38;5;21;01mdisplay\u001b[39;00m \u001b[38;5;28;01mimport\u001b[39;00m Image, display\n\u001b[0;32m      3\u001b[0m respuesta \u001b[38;5;241m=\u001b[39m requests\u001b[38;5;241m.\u001b[39mget(captcha_url)\n",
      "File \u001b[1;32mc:\\trabajos\\review_finder\\services\\requests.py:5\u001b[0m\n\u001b[0;32m      2\u001b[0m \u001b[38;5;28;01mimport\u001b[39;00m \u001b[38;5;21;01masyncio\u001b[39;00m\n\u001b[0;32m      4\u001b[0m \u001b[38;5;28;01mfrom\u001b[39;00m \u001b[38;5;21;01mbson\u001b[39;00m \u001b[38;5;28;01mimport\u001b[39;00m ObjectId\n\u001b[1;32m----> 5\u001b[0m \u001b[38;5;28;01mfrom\u001b[39;00m \u001b[38;5;21;01mmodels\u001b[39;00m\u001b[38;5;21;01m.\u001b[39;00m\u001b[38;5;21;01mproducts\u001b[39;00m \u001b[38;5;28;01mimport\u001b[39;00m MarketPlaces, ProductType\n\u001b[0;32m      6\u001b[0m \u001b[38;5;28;01mfrom\u001b[39;00m \u001b[38;5;21;01mservices\u001b[39;00m\u001b[38;5;21;01m.\u001b[39;00m\u001b[38;5;21;01mamazon\u001b[39;00m \u001b[38;5;28;01mimport\u001b[39;00m AmazonScrapper\n\u001b[0;32m      7\u001b[0m \u001b[38;5;28;01mfrom\u001b[39;00m \u001b[38;5;21;01mfastapi\u001b[39;00m \u001b[38;5;28;01mimport\u001b[39;00m HTTPException\n",
      "\u001b[1;31mModuleNotFoundError\u001b[0m: No module named 'models'"
     ]
    }
   ],
   "source": [
    "import requests\n",
    "from IPython.display import Image, display\n",
    "respuesta = requests.get(captcha_url)\n",
    "display(Image(respuesta.content))"
   ]
  },
  {
   "cell_type": "markdown",
   "metadata": {},
   "source": [
    "## Try to solve with amazoncaptcha package"
   ]
  },
  {
   "cell_type": "code",
   "execution_count": 7,
   "metadata": {},
   "outputs": [
    {
     "ename": "ModuleNotFoundError",
     "evalue": "No module named 'models'",
     "output_type": "error",
     "traceback": [
      "\u001b[1;31m---------------------------------------------------------------------------\u001b[0m",
      "\u001b[1;31mModuleNotFoundError\u001b[0m                       Traceback (most recent call last)",
      "Cell \u001b[1;32mIn[7], line 1\u001b[0m\n\u001b[1;32m----> 1\u001b[0m \u001b[38;5;28;01mfrom\u001b[39;00m \u001b[38;5;21;01mamazoncaptcha\u001b[39;00m \u001b[38;5;28;01mimport\u001b[39;00m AmazonCaptcha\n\u001b[0;32m      3\u001b[0m captcha \u001b[38;5;241m=\u001b[39m AmazonCaptcha\u001b[38;5;241m.\u001b[39mfromlink(captcha_url)\n\u001b[0;32m      4\u001b[0m captcha \u001b[38;5;241m=\u001b[39m captcha\u001b[38;5;241m.\u001b[39msolve()\n",
      "File \u001b[1;32mc:\\trabajos\\review_finder\\env\\Lib\\site-packages\\amazoncaptcha\\__init__.py:42\u001b[0m\n\u001b[0;32m      1\u001b[0m \u001b[38;5;66;03m# -*- coding: utf-8 -*-\u001b[39;00m\n\u001b[0;32m      3\u001b[0m \u001b[38;5;124;03m\"\"\"Solver for Amazon's image captcha.\u001b[39;00m\n\u001b[0;32m      4\u001b[0m \n\u001b[0;32m      5\u001b[0m \u001b[38;5;124;03mThe motivation behind the creation of this library is taking its start from\u001b[39;00m\n\u001b[1;32m   (...)\u001b[0m\n\u001b[0;32m     39\u001b[0m \n\u001b[0;32m     40\u001b[0m \u001b[38;5;124;03m\"\"\"\u001b[39;00m\n\u001b[1;32m---> 42\u001b[0m \u001b[38;5;28;01mfrom\u001b[39;00m \u001b[38;5;21;01m.\u001b[39;00m\u001b[38;5;21;01msolver\u001b[39;00m \u001b[38;5;28;01mimport\u001b[39;00m AmazonCaptcha\n\u001b[0;32m     43\u001b[0m \u001b[38;5;28;01mfrom\u001b[39;00m \u001b[38;5;21;01m.\u001b[39;00m\u001b[38;5;21;01mdevtools\u001b[39;00m \u001b[38;5;28;01mimport\u001b[39;00m AmazonCaptchaCollector\n\u001b[0;32m     44\u001b[0m \u001b[38;5;28;01mfrom\u001b[39;00m \u001b[38;5;21;01m.\u001b[39;00m\u001b[38;5;21;01mexceptions\u001b[39;00m \u001b[38;5;28;01mimport\u001b[39;00m ContentTypeError, NotFolderError\n",
      "File \u001b[1;32mc:\\trabajos\\review_finder\\env\\Lib\\site-packages\\amazoncaptcha\\solver.py:24\u001b[0m\n\u001b[0;32m     22\u001b[0m \u001b[38;5;28;01mfrom\u001b[39;00m \u001b[38;5;21;01mio\u001b[39;00m \u001b[38;5;28;01mimport\u001b[39;00m BytesIO\n\u001b[0;32m     23\u001b[0m \u001b[38;5;28;01mimport\u001b[39;00m \u001b[38;5;21;01mwarnings\u001b[39;00m\n\u001b[1;32m---> 24\u001b[0m \u001b[38;5;28;01mimport\u001b[39;00m \u001b[38;5;21;01mrequests\u001b[39;00m\n\u001b[0;32m     25\u001b[0m \u001b[38;5;28;01mimport\u001b[39;00m \u001b[38;5;21;01mjson\u001b[39;00m\n\u001b[0;32m     26\u001b[0m \u001b[38;5;28;01mimport\u001b[39;00m \u001b[38;5;21;01mzlib\u001b[39;00m\n",
      "File \u001b[1;32mc:\\trabajos\\review_finder\\services\\requests.py:5\u001b[0m\n\u001b[0;32m      2\u001b[0m \u001b[38;5;28;01mimport\u001b[39;00m \u001b[38;5;21;01masyncio\u001b[39;00m\n\u001b[0;32m      4\u001b[0m \u001b[38;5;28;01mfrom\u001b[39;00m \u001b[38;5;21;01mbson\u001b[39;00m \u001b[38;5;28;01mimport\u001b[39;00m ObjectId\n\u001b[1;32m----> 5\u001b[0m \u001b[38;5;28;01mfrom\u001b[39;00m \u001b[38;5;21;01mmodels\u001b[39;00m\u001b[38;5;21;01m.\u001b[39;00m\u001b[38;5;21;01mproducts\u001b[39;00m \u001b[38;5;28;01mimport\u001b[39;00m MarketPlaces, ProductType\n\u001b[0;32m      6\u001b[0m \u001b[38;5;28;01mfrom\u001b[39;00m \u001b[38;5;21;01mservices\u001b[39;00m\u001b[38;5;21;01m.\u001b[39;00m\u001b[38;5;21;01mamazon\u001b[39;00m \u001b[38;5;28;01mimport\u001b[39;00m AmazonScrapper\n\u001b[0;32m      7\u001b[0m \u001b[38;5;28;01mfrom\u001b[39;00m \u001b[38;5;21;01mfastapi\u001b[39;00m \u001b[38;5;28;01mimport\u001b[39;00m HTTPException\n",
      "\u001b[1;31mModuleNotFoundError\u001b[0m: No module named 'models'"
     ]
    }
   ],
   "source": [
    "from amazoncaptcha import AmazonCaptcha\n",
    "\n",
    "captcha = AmazonCaptcha.fromlink(captcha_url)\n",
    "captcha = captcha.solve()\n",
    "print(captcha)"
   ]
  },
  {
   "cell_type": "markdown",
   "metadata": {},
   "source": [
    "## Write captcha and send"
   ]
  },
  {
   "cell_type": "code",
   "execution_count": 4,
   "metadata": {},
   "outputs": [
    {
     "ename": "NameError",
     "evalue": "name 'captcha' is not defined",
     "output_type": "error",
     "traceback": [
      "\u001b[1;31m---------------------------------------------------------------------------\u001b[0m",
      "\u001b[1;31mNameError\u001b[0m                                 Traceback (most recent call last)",
      "Cell \u001b[1;32mIn[4], line 1\u001b[0m\n\u001b[1;32m----> 1\u001b[0m chrome\u001b[38;5;241m.\u001b[39mfind_element(By\u001b[38;5;241m.\u001b[39mNAME, \u001b[38;5;124m'\u001b[39m\u001b[38;5;124mfield-keywords\u001b[39m\u001b[38;5;124m'\u001b[39m)\u001b[38;5;241m.\u001b[39msend_keys(\u001b[43mcaptcha\u001b[49m)\n\u001b[0;32m      2\u001b[0m chrome\u001b[38;5;241m.\u001b[39mfind_element(By\u001b[38;5;241m.\u001b[39mTAG_NAME, \u001b[38;5;124m'\u001b[39m\u001b[38;5;124mbutton\u001b[39m\u001b[38;5;124m'\u001b[39m)\u001b[38;5;241m.\u001b[39mclick()\n",
      "\u001b[1;31mNameError\u001b[0m: name 'captcha' is not defined"
     ]
    }
   ],
   "source": [
    "chrome.find_element(By.NAME, 'field-keywords').send_keys(captcha)\n",
    "chrome.find_element(By.TAG_NAME, 'button').click()"
   ]
  },
  {
   "cell_type": "markdown",
   "metadata": {},
   "source": [
    "__accept cookies__"
   ]
  },
  {
   "cell_type": "code",
   "execution_count": null,
   "metadata": {},
   "outputs": [],
   "source": [
    "cookies_dialog = chrome.find_element(By.ID, 'sp-cc')\n",
    "cookies_dialog.find_element(By.ID, 'sp-cc-accept').click()"
   ]
  },
  {
   "cell_type": "markdown",
   "metadata": {},
   "source": [
    "## Scrape Reviews"
   ]
  },
  {
   "cell_type": "markdown",
   "metadata": {},
   "source": [
    "__Read statistics__"
   ]
  },
  {
   "cell_type": "code",
   "execution_count": null,
   "metadata": {},
   "outputs": [],
   "source": [
    "reviews_section = chrome.find_element(By.ID, 'reviewsMedley')\n",
    "rating_histogram = reviews_section.find_element(By.ID, 'cm_cr_dp_d_rating_histogram')\n",
    "total_reviews = rating_histogram.find_element(By.CLASS_NAME, 'averageStarRatingNumerical').text\n",
    "print(total_reviews)\n",
    "\n",
    "average_reviews_div = rating_histogram.find_element(By.CLASS_NAME, 'AverageCustomerReviews')\n",
    "spans = average_reviews_div.find_elements(By.TAG_NAME, 'span')\n",
    "for span in spans:\n",
    "    print(span.text)\n",
    "\n",
    "\n",
    "histogram_table = reviews_section.find_element(By.ID, 'histogramTable')\n",
    "histogram_rows = histogram_table.find_elements(By.TAG_NAME, 'tr')\n",
    "\n",
    "five_stars = histogram_rows[0].find_elements(By.TAG_NAME, 'td')[2].text\n",
    "print(f\"5 stars :{five_stars}\")\n",
    "\n",
    "four_stars = histogram_rows[1].find_elements(By.TAG_NAME, 'td')[2].text\n",
    "print(f\"4 stars :{four_stars}\")\n",
    "\n",
    "three_stars = histogram_rows[2].find_elements(By.TAG_NAME, 'td')[2].text\n",
    "print(f\"3 stars :{three_stars}\")\n",
    "\n",
    "two_stars = histogram_rows[3].find_elements(By.TAG_NAME, 'td')[2].text\n",
    "print(f\"2 stars :{two_stars}\")\n",
    "\n",
    "one_stars = histogram_rows[4].find_elements(By.TAG_NAME, 'td')[2].text\n",
    "print(f\"1 stars :{one_stars}\")\n"
   ]
  },
  {
   "cell_type": "markdown",
   "metadata": {},
   "source": [
    "__Read features__\n"
   ]
  },
  {
   "cell_type": "code",
   "execution_count": 36,
   "metadata": {},
   "outputs": [
    {
     "name": "stdout",
     "output_type": "stream",
     "text": [
      "{'Marca': 'Logitech', 'Dispositivos compatibles': 'PC', 'Tecnología de conectividad': 'USB 2.0', 'Descripción del teclado': 'Gaming', 'Usos Recomendados Para Producto': 'Gaming', '': ''}\n",
      "Features: Sobre este artículo\n",
      "Lleva tus habilidades de juego al siguiente nivel: el Logitech G413 TKL SE es un teclado sin llave con características de juego y la durabilidad y el rendimiento necesarios para competir\n",
      "Teclas PBT: resistente al calor y al desgaste, este teclado para juegos de computadora cuenta con el material más duradero utilizado en el diseño de teclas\n",
      "Interruptores mecánicos táctiles: el rendimiento sin concesiones siempre está al alcance con este teclado para juegos con cable\n",
      "Color, material y acabado premium: mejora tu configuración de juego con este teclado retroiluminado con una elegante carcasa superior de aluminio cepillado negro e iluminación LED blanca\n",
      "Rendimiento anti-ghosting de 6 teclas: experimente una entrada de teclas confiable con este teclado anti-ghosting en comparación con teclados mecánicos que no son de juegos\n",
      "Controles de medios clave FN: Doce (12) teclas de función (FN) le permiten controlar el volumen, reproducir y pausar, saltar pista, silenciar, alternar iluminación, ingresar bloqueo de Windows, etc\n",
      "Diseño de cuerpo robusto con flexión mínima: la carcasa superior de aleación de aluminio y magnesio cepillado sirve como columna vertebral del teclado con cable\n",
      "Opción de tamaño completo: también está disponible un diseño completo de 104 teclas (Logitech G413 SE)\n",
      "{'Marca': 'Logitech', 'Series': 'G413 TKL', 'Número de modelo del producto': '920-010442', 'Plataforma de hardware': 'Portátil, Ordenador', 'Sistema operativo': 'Mac OS X 10.14 Mojave, Mac OS X 10.14, Windows 11, Windows 10', 'Dimensiones del producto': '13,97 x 5 x 1,43 pulgadas', 'Dimensiones del artículo Largo x Ancho x Altura': '13.97 x 5 x 1.43 pulgadas', 'Color': 'G413 TLK SE Negro', 'Fuente de energía': 'Cable eléctrico', 'Fabricante': 'Logitech', 'ASIN': 'B08Z7J4KV3', 'Producto en amazon.com desde': 'Enero 25, 2022'}\n",
      "Product description: Mejora tu experiencia de juego con el teclado mecánico para juegos Logitech G413 TKL SE. Ofrece una experiencia de interruptor mecánico de grado de juego. Está diseñado para ayudar a los jugadores serios a desempeñarse a un nivel más alto y avanzar aún más. El G413 TKL SE cuenta con interruptores mecánicos táctiles; teclas PBT, rendimiento anti-ghosting de 6 teclas; una carcasa superior de aluminio cepillado negro con iluminación LED blanca; 12 controles multimedia de teclas de función; y tecnología confiable con cable USB. Una opción de tamaño completo de 104 teclas está disponible. En resumen, las características de juego primero que necesitas para poner un rendimiento más perfecto al alcance. Un teclado diseñado para funcionar. Un teclado hecho para jugar.\n"
     ]
    }
   ],
   "source": [
    "try:\n",
    "    product_overview_div = chrome.find_element(By.ID, 'poExpander')\n",
    "    \n",
    "    try:\n",
    "        product_overview_table = product_overview_div.find_elements(By.TAG_NAME, 'table')[0]\n",
    "        rows = product_overview_table.find_elements(By.TAG_NAME, 'tr')\n",
    "        product_overview = {}\n",
    "        for row in rows:\n",
    "            columns = row.find_elements(By.TAG_NAME, 'td')\n",
    "            product_overview[columns[0].text] = columns[1].text\n",
    "        print(product_overview)\n",
    "    except:\n",
    "        print(\"No table find by tag name 'table' in product overview div\")\n",
    "\n",
    "except:\n",
    "    print(\"No product overview find by id 'poExpander'\")\n",
    "\n",
    "try:\n",
    "    features = chrome.find_element(By.ID, 'featurebullets_feature_div').text\n",
    "    print(f\"Features: {features}\")\n",
    "except:\n",
    "    print(\"No features div find by id 'featurebullets_feature_div'\")\n",
    "\n",
    "try:\n",
    "    product_specs_table = chrome.find_element(By.ID, 'productDetails_techSpec_section_1')\n",
    "    product_specs = {}\n",
    "    rows = product_specs_table.find_elements(By.TAG_NAME, 'tr')\n",
    "    for row in rows:\n",
    "        try:\n",
    "            field = row.find_element(By.TAG_NAME, 'th')\n",
    "            value = row.find_element(By.TAG_NAME, 'td')\n",
    "            product_specs[field.text] = value.text\n",
    "        except:\n",
    "            print(\"No th or td tag find in row\")\n",
    "    print(product_specs)\n",
    "        \n",
    "except:\n",
    "    print(\"No product specs table find by id 'productDetails_techSpec_section_1'\")\n",
    "\n",
    "\n",
    "\n",
    "try:\n",
    "    product_description = chrome.find_element(By.ID, 'productDescription').text\n",
    "    print(f\"Product description: {product_description}\")\n",
    "except:\n",
    "    print(\"No product description find by id 'productDescription'\")\n"
   ]
  },
  {
   "cell_type": "markdown",
   "metadata": {},
   "source": [
    "__show all reviews__"
   ]
  },
  {
   "cell_type": "code",
   "execution_count": 6,
   "metadata": {},
   "outputs": [],
   "source": [
    "footer = chrome.find_element(By.ID, 'reviews-medley-footer')\n",
    "all_reviews_link = footer.find_element(By.TAG_NAME, 'a')\n",
    "all_reviews_link.click()"
   ]
  },
  {
   "cell_type": "markdown",
   "metadata": {},
   "source": [
    "__read reviews__"
   ]
  },
  {
   "cell_type": "code",
   "execution_count": 14,
   "metadata": {},
   "outputs": [
    {
     "name": "stdout",
     "output_type": "stream",
     "text": [
      "3 calificaciones totales, 1 con opinión\n",
      "There are 1 reviews\n",
      "//////////////////////////////////\n",
      "ID: R320XM916LXMCG\n",
      "username: Amazon Customer\n",
      "userAvatar: https://images-na.ssl-images-amazon.com/images/S/amazon-avatars-global/default._CR0,0,1024,1024_SX48_.png\n",
      "Rating: 5\n",
      "Date: Calificado en Estados Unidos el 18 de diciembre de 2023\n",
      "Title: the product is good\n",
      "Review URL: https://www.amazon.com/-/es/gp/customer-reviews/R320XM916LXMCG/ref=cm_cr_arp_d_rvw_ttl?ie=UTF8&ASIN=B0CB6WKPLN\n",
      "Content: They have sent the product earlier than expected\n",
      "//////////////////////////////////\n",
      "\n"
     ]
    }
   ],
   "source": [
    "global_info = chrome.find_element(By.ID, 'filter-info-section').text\n",
    "print(global_info)\n",
    "\n",
    "reviews = chrome.find_elements(By.CLASS_NAME, 'review')\n",
    "print(f\"There are {len(reviews)} reviews\")\n",
    "for review in reviews:\n",
    "    review_id = review.get_attribute('id')\n",
    "    print('//////////////////////////////////')\n",
    "    print(f\"ID: {review_id}\")\n",
    "\n",
    "    user_profile = review.find_element(By.CLASS_NAME, 'a-profile')\n",
    "    username = user_profile.find_element(By.CLASS_NAME, 'a-profile-name').text\n",
    "    print(f\"username: {username}\")\n",
    "    userAvatar = user_profile.find_element(By.TAG_NAME, 'img').get_attribute('src')\n",
    "    print(f\"userAvatar: {userAvatar}\")\n",
    "    stars_classes = review.find_element(By.CLASS_NAME, 'review-rating').get_attribute('class')\n",
    "    stars = stars_classes.split('a-star-')[1].split(' ')[0]\n",
    "    print(f\"Rating: {stars}\")\n",
    "\n",
    "    date = review.find_element(By.CLASS_NAME, 'review-date').text\n",
    "    print(f\"Date: {date}\")\n",
    "    \n",
    "    title_div = review.find_element(By.CLASS_NAME, 'review-title')\n",
    "    title = title_div.text\n",
    "    print(f\"Title: {title}\")\n",
    "    review_url = title_div.get_attribute('href')\n",
    "    print(f\"Review URL: {review_url}\")\n",
    "    content = review.find_element(By.CLASS_NAME, 'review-text-content').text\n",
    "    print(f\"Content: {content}\")\n",
    "    print('//////////////////////////////////')\n",
    "    print()"
   ]
  },
  {
   "cell_type": "markdown",
   "metadata": {},
   "source": [
    "__next page__"
   ]
  },
  {
   "cell_type": "code",
   "execution_count": 7,
   "metadata": {},
   "outputs": [],
   "source": [
    "chrome.find_element(By.CLASS_NAME, 'a-last').click()"
   ]
  },
  {
   "cell_type": "markdown",
   "metadata": {},
   "source": [
    "## Scrape products"
   ]
  },
  {
   "cell_type": "code",
   "execution_count": 4,
   "metadata": {},
   "outputs": [
    {
     "name": "stdout",
     "output_type": "stream",
     "text": [
      "UUID: 35be4862-3462-4efc-b407-978fbd0a7e9d\n",
      "ASIN: B07YN82X3B\n",
      "Sponsored: False\n",
      "Title: Logitech G203 RGB - Mouse cableado para videojuegos\n",
      "Url: https://www.amazon.com/-/es/Logitech-G203-RGB-cableado-videojuegos/dp/B07YN82X3B/ref=sr_1_1?keywords=Logitech+G203&qid=1706345498&sr=8-1\n",
      "Image: https://m.media-amazon.com/images/I/61UxfXTUyvL._AC_UY218_.jpg\n",
      "Price: US$29\n",
      "85\n",
      "Reviews: 16,026\n",
      "Rating: 4.7 de 5 estrellas\n",
      "UUID: 0ed343dc-256b-4fd6-b7c8-6ee560e412a3\n",
      "ASIN: B091V1LJ4Q\n",
      "Sponsored: False\n",
      "Title: Logitech G 203 LIGHTSYNC - Ratón para juegos con cable, 8,000 DPI, efecto óptico arcoíris RGB, 6 botones programables, memoria integrada, computadora PC/Mac, compatible con laptop, color negro (renovado)\n",
      "Url: https://www.amazon.com/-/es/Logitech-203-LIGHTSYNC-programables-computadora/dp/B091V1LJ4Q/ref=sr_1_2?keywords=Logitech+G203&qid=1706345498&sr=8-2\n",
      "Image: https://m.media-amazon.com/images/I/51MVbr+ZQML._AC_UY218_.jpg\n",
      "Price: US$21\n",
      "99\n",
      "Reviews: 296\n",
      "Rating: 4.7 de 5 estrellas\n",
      "UUID: 66b9075a-7d98-43bc-b6b8-7d880bedcae8\n",
      "ASIN: B01M26YUKO\n",
      "Sponsored: False\n",
      "Title: Logitech G203 RGB - Mouse cableado para videojuegos\n",
      "Url: https://www.amazon.com/-/es/Logitech-G203-RGB-cableado-videojuegos/dp/B01M26YUKO/ref=sr_1_3?keywords=Logitech+G203&qid=1706345498&sr=8-3\n",
      "Image: https://m.media-amazon.com/images/I/71BmDZ6u22L._AC_UY218_.jpg\n",
      "Price: US$39\n",
      "95\n",
      "Reviews: 8,084\n",
      "Rating: 4.6 de 5 estrellas\n",
      "UUID: ba348ec9-39a0-43e9-8194-ba5203ced8c4\n",
      "ASIN: B07W6JN8N7\n",
      "Sponsored: False\n",
      "Title: Logitech G 203 Lightsync - Mouse para juegos con iluminación RGB personalizable, 6 botones programables, sensor de grado de juego, seguimiento de 8 k dpi, peso ligero (blanco)\n",
      "Url: https://www.amazon.com/-/es/Logitech-203-Lightsync-personalizable-programables/dp/B07W6JN8N7/ref=sr_1_4?keywords=Logitech+G203&qid=1706345498&sr=8-4\n",
      "Image: https://m.media-amazon.com/images/I/51j0DiJgqoL._AC_UY218_.jpg\n",
      "Price: US$43\n",
      "69\n",
      "Reviews: 4,971\n",
      "Rating: 4.6 de 5 estrellas\n",
      "UUID: bf09e87f-74ee-4a3a-92ef-01d7342ae199\n",
      "ASIN: B07QKNLJXJ\n",
      "Sponsored: False\n",
      "Title: Logitech G203 Prodigy RGB Ratón para juegos con cable - Negro (renovado)\n",
      "Url: https://www.amazon.com/-/es/Logitech-Prodigy-Rat%C3%B3n-juegos-cable/dp/B07QKNLJXJ/ref=sr_1_5?keywords=Logitech+G203&qid=1706345498&sr=8-5\n",
      "Image: https://m.media-amazon.com/images/I/711KcTdINxL._AC_UY218_.jpg\n",
      "No price\n",
      "Reviews: 153\n",
      "Rating: 4.5 de 5 estrellas\n",
      "UUID: fcc23f69-d202-4a93-b7a6-41cd2c095560\n",
      "ASIN: B079ZD1K89\n",
      "Sponsored: False\n",
      "Title: G203 Prodigy RGB Ratón para juegos con cable - Blanco (renovado)\n",
      "Url: https://www.amazon.com/-/es/G203-Prodigy-Rat%C3%B3n-juegos-cable/dp/B079ZD1K89/ref=sr_1_6?keywords=Logitech+G203&qid=1706345498&sr=8-6\n",
      "Image: https://m.media-amazon.com/images/I/71mxhq8lS7L._AC_UY218_.jpg\n",
      "No price\n",
      "Reviews: 23\n",
      "Rating: 4.5 de 5 estrellas\n",
      "UUID: 879ba3da-dfb7-4e96-be71-b94de8e4b88c\n",
      "ASIN: B091M2BW6R\n",
      "Sponsored: False\n",
      "Title: Logitech G 203 Lightsync - Mouse para juegos con iluminación RGB personalizable, 6 botones programables, sensor de grado de juego, seguimiento de 8 k dpi, peso ligero (blanco) (renovado)\n",
      "Url: https://www.amazon.com/-/es/Logitech-203-Lightsync-personalizable-programables/dp/B091M2BW6R/ref=sr_1_7?keywords=Logitech+G203&qid=1706345498&sr=8-7\n",
      "Image: https://m.media-amazon.com/images/I/51Vg-qG+JLS._AC_UY218_.jpg\n",
      "No price\n",
      "Reviews: 3\n",
      "Rating: 4.6 de 5 estrellas\n",
      "UUID: cd4fcd32-3586-46b4-a6cd-7e074aa18962\n",
      "ASIN: B0BRP1YW2Q\n",
      "Sponsored: False\n",
      "Title: Logitech G203 LIGHTSYNC Mouse Gaming con Iluminación RGB Personalizable, 6 Botones Programables Seguimiento de Hasta 8,000 DPI, Ultra-ligero - Negro (Reacondicionado)\n",
      "Url: https://www.amazon.com/-/es/dp/B0BRP1YW2Q/ref=sr_1_8?keywords=Logitech+G203&qid=1706345498&sr=8-8\n",
      "Image: https://m.media-amazon.com/images/I/61UxfXTUyvL._AC_UY218_.jpg\n",
      "No price\n",
      "No reviews\n",
      "UUID: 84044c3f-4aa4-4e8f-bacc-f141cc0c25a3\n",
      "ASIN: B0CKS44TV7\n",
      "Sponsored: False\n",
      "Title: Logitech G203 LIGHTSYNC Ratón óptico para juegos con cable con sensor de 8,000 DPI - Azul (renovado)\n",
      "Url: https://www.amazon.com/-/es/Logitech-G203-LIGHTSYNC-%C3%B3ptico-juegos/dp/B0CKS44TV7/ref=sr_1_9?keywords=Logitech+G203&qid=1706345498&sr=8-9\n",
      "Image: https://m.media-amazon.com/images/I/51N-K2cgnOL._AC_UY218_.jpg\n",
      "No price\n",
      "Reviews: 1\n",
      "Rating: 5.0 de 5 estrellas\n",
      "UUID: c8602dcd-7695-47c3-a485-0bb9eb1340f4\n",
      "ASIN: B079DX64YM\n",
      "Sponsored: False\n",
      "Title: Logitech G203 Prodigy RGB Ratón para juegos con cable - Negro (renovado)\n",
      "Url: https://www.amazon.com/-/es/Logitech-Prodigy-Rat%C3%B3n-juegos-cable/dp/B079DX64YM/ref=sr_1_10?keywords=Logitech+G203&qid=1706345498&sr=8-10\n",
      "Image: https://m.media-amazon.com/images/I/61LwgZ+gjEL._AC_UY218_.jpg\n",
      "No price\n",
      "Reviews: 484\n",
      "Rating: 4.6 de 5 estrellas\n",
      "UUID: 3caa1a7b-e35a-4c3e-8f96-9761ccfc8b94\n",
      "ASIN: B094PS5RZQ\n",
      "Sponsored: False\n",
      "Title: Mouse para juegos Razer DeathAdder Essential: Sensor óptico 6400 DPI, 5 botones programables, interruptores mecánicos, agarres laterales de goma. Negro clásico.\n",
      "Url: https://www.amazon.com/-/es/Mouse-juegos-Razer-DeathAdder-Essential/dp/B094PS5RZQ/ref=sr_1_11?keywords=Logitech+G203&qid=1706345498&sr=8-11\n",
      "Image: https://m.media-amazon.com/images/I/8189uwDnMkL._AC_UY218_.jpg\n",
      "Price: US$23\n",
      "99\n",
      "Reviews: 9,800\n",
      "Rating: 4.4 de 5 estrellas\n",
      "UUID: 97caeefa-5c33-41b1-9051-7b6e4078edac\n",
      "ASIN: B098RDFP3J\n",
      "Sponsored: True\n",
      "Title: Glorious Gaming Model O - Mouse inalámbrico para juegos, superligero, diseño de panal de abeja de 2.4 onzas, RGB, ambidiestro, inalámbrico de 2.4 GHz, batería de hasta 71 horas, color negro mate\n",
      "Url: https://www.amazon.com/-/es/sspa/click?ie=UTF8&spc=MToyNTMxMjE4MjQ3MjYwMjY6MTcwNjM0NTQ5ODpzcF9tdGY6MjAwMDY5MzU4MzI1OTk4OjowOjo&url=%2FGlorious-Gaming-Model-inal%25C3%25A1mbrico-superligero%2Fdp%2FB098RDFP3J%2Fref%3Dsr_1_12_sspa%3Fkeywords%3DLogitech%2BG203%26qid%3D1706345498%26sr%3D8-12-spons%26sp_csd%3Dd2lkZ2V0TmFtZT1zcF9tdGY%26psc%3D1\n",
      "Image: https://m.media-amazon.com/images/I/712sMCm+H7L._AC_UY218_.jpg\n",
      "Price: US$79\n",
      "99\n",
      "Reviews: 4,405\n",
      "Rating: 4.5 de 5 estrellas\n",
      "UUID: e45de145-68b8-40ff-9f15-7fec3b663441\n",
      "ASIN: B0BGKBT1JG\n",
      "Sponsored: False\n",
      "Title: TMKB Falcon M1SE - Mouse ultraligero para juegos de panal de abeja, sensor óptico de alta precisión de 12800 DPI, 6 botones programables, RGB personalizable, cuerda paracord, ergonómico, con cable, blanco mate\n",
      "Url: https://www.amazon.com/-/es/TMKB-Falcon-M1SE-programables-personalizable/dp/B0BGKBT1JG/ref=sr_1_13?keywords=Logitech+G203&qid=1706345498&sr=8-13\n",
      "Image: https://m.media-amazon.com/images/I/71tGtBuo0yL._AC_UY218_.jpg\n",
      "Price: US$19\n",
      "99\n",
      "Reviews: 740\n",
      "Rating: 4.5 de 5 estrellas\n",
      "UUID: e8d1c3f8-4460-4ce9-9f69-655f8989eb2c\n",
      "ASIN: B0BQX58F5B\n",
      "Sponsored: False\n",
      "Title: Agarre de ratón para Logitech G305 y Logitech G203 y Logitech PRO Gaming (Sakura)\n",
      "Url: https://www.amazon.com/-/es/Agarre-rat%C3%B3n-Logitech-Gaming-Sakura/dp/B0BQX58F5B/ref=sr_1_14?keywords=Logitech+G203&qid=1706345498&sr=8-14\n",
      "Image: https://m.media-amazon.com/images/I/61JufFWtiyL._AC_UY218_.jpg\n",
      "Price: US$18\n",
      "99\n",
      "Reviews: 9\n",
      "Rating: 4.0 de 5 estrellas\n",
      "UUID: 410022b4-e12f-4fbe-89b3-a0de3e5567e1\n",
      "ASIN: B07GBZ4Q68\n",
      "Sponsored: False\n",
      "Title: Logitech G502 HERO - Mouse para juegos de alto rendimiento con cable, sensor HERO 25K, 25,600 ppp, RGB, pesos ajustables, 11 botones programables, memoria integrada, PC / Mac\n",
      "Url: https://www.amazon.com/-/es/Logitech-G502-HERO-rendimiento-programables/dp/B07GBZ4Q68/ref=sr_1_15?keywords=Logitech+G203&qid=1706345498&sr=8-15\n",
      "Image: https://m.media-amazon.com/images/I/61mpMH5TzkL._AC_UY218_.jpg\n",
      "Price: US$48\n",
      "58\n",
      "Reviews: 50,039\n",
      "Rating: 4.7 de 5 estrellas\n",
      "UUID: c753b83c-01df-43f4-9997-b01977da92d5\n",
      "ASIN: B0895BG8QP\n",
      "Sponsored: False\n",
      "Title: Logitech G Ratón con cable para juegos de sincronización de 102 luces con iluminación RGB personalizable, 6 botones programables, sensor de grado de juego, seguimiento de 8 k dpi, color de 16.8\n",
      "Url: https://www.amazon.com/-/es/sincronizaci%C3%B3n-iluminaci%C3%B3n-personalizable-programables-seguimiento/dp/B0895BG8QP/ref=sr_1_16?keywords=Logitech+G203&qid=1706345498&sr=8-16\n",
      "Image: https://m.media-amazon.com/images/I/61UxfXTUyvL._AC_UY218_.jpg\n",
      "Price: US$31\n",
      "35\n",
      "Reviews: 1,056\n",
      "Rating: 4.4 de 5 estrellas\n",
      "UUID: e0792a1b-506d-4415-88cf-2b57d8c2792e\n",
      "ASIN: B07W6JN8N7\n",
      "Sponsored: True\n",
      "Title: Logitech G 203 Lightsync - Mouse para juegos con iluminación RGB personalizable, 6 botones programables, sensor de grado de juego, seguimiento de 8 k dpi, peso ligero (blanco)\n",
      "Url: https://www.amazon.com/-/es/sspa/click?ie=UTF8&spc=MToyNTMxMjE4MjQ3MjYwMjY6MTcwNjM0NTQ5ODpzcF9tdGY6MzAwMTI2MDI2MDk5NjAyOjowOjo&url=%2FLogitech-203-Lightsync-personalizable-programables%2Fdp%2FB07W6JN8N7%2Fref%3Dsr_1_17_sspa%3Fkeywords%3DLogitech%2BG203%26qid%3D1706345498%26sr%3D8-17-spons%26sp_csd%3Dd2lkZ2V0TmFtZT1zcF9tdGY%26psc%3D1\n",
      "Image: https://m.media-amazon.com/images/I/51j0DiJgqoL._AC_UY218_.jpg\n",
      "Price: US$43\n",
      "69\n",
      "Reviews: 4,971\n",
      "Rating: 4.6 de 5 estrellas\n",
      "UUID: ac713e5b-394c-4f1c-b441-21239597ef17\n",
      "ASIN: B0BN77X6HW\n",
      "Sponsored: False\n",
      "Title: TECURS Ratón para juegos con cable, mouse ergonómico retroiluminado RGB con 8 botones programables de hasta 7200 DPI para portátil/Windows PC/Mac, mouse USB para gamer, color negro\n",
      "Url: https://www.amazon.com/-/es/ergon%C3%B3mico-retroiluminado-botones-programables-port%C3%A1til/dp/B0BN77X6HW/ref=sr_1_18?keywords=Logitech+G203&qid=1706345498&sr=8-18\n",
      "Image: https://m.media-amazon.com/images/I/71CrCHYkjYL._AC_UY218_.jpg\n",
      "Price: US$7\n",
      "99\n",
      "Reviews: 173\n",
      "Rating: 4.3 de 5 estrellas\n",
      "UUID: c52dde9f-4c66-4164-8a07-14cbe802d724\n",
      "ASIN: B0CKS8M2C5\n",
      "Sponsored: True\n",
      "Title: Ratón inalámbrico Bluetooth, mouse bidireccional, botón de voz frontal, botón de silencio trasero, con receptor inalámbrico 2.4G, carcasa unidireccional, adecuado para portátiles, MacBook Pro\n",
      "Url: https://www.amazon.com/-/es/sspa/click?ie=UTF8&spc=MToyNTMxMjE4MjQ3MjYwMjY6MTcwNjM0NTQ5ODpzcF9idGY6MzAwMTA4ODI3MjQ4MzAyOjowOjo&url=%2Final%25C3%25A1mbrico-Bluetooth-bidireccional-unidireccional-port%25C3%25A1tiles%2Fdp%2FB0CKS8M2C5%2Fref%3Dsr_1_19_sspa%3Fkeywords%3DLogitech%2BG203%26qid%3D1706345498%26sr%3D8-19-spons%26sp_csd%3Dd2lkZ2V0TmFtZT1zcF9idGY%26psc%3D1\n",
      "Image: https://m.media-amazon.com/images/I/51leRgbSwIL._AC_UY218_.jpg\n",
      "Price: US$16\n",
      "99\n",
      "Reviews: 1\n",
      "Rating: 5.0 de 5 estrellas\n",
      "UUID: 74fbcd75-61f5-474d-8924-0232c91414a5\n",
      "ASIN: B0BM4WQS3L\n",
      "Sponsored: True\n",
      "Title: Ratón inalámbrico para computadora, mouse silencioso con luces RGB modo dual 2.4G inalámbrico y Bluetooth 5.1 2400 DPI USB-C recargable, mouse compacto para PC, computadora portátil de escritorio (verde)\n",
      "Url: https://www.amazon.com/-/es/sspa/click?ie=UTF8&spc=MToyNTMxMjE4MjQ3MjYwMjY6MTcwNjM0NTQ5ODpzcF9idGY6MzAwMDE4NDU2NjgzOTAyOjowOjo&url=%2Final%25C3%25A1mbrico-computadora-silencioso-recargable-escritorio%2Fdp%2FB0BM4WQS3L%2Fref%3Dsr_1_20_sspa%3Fkeywords%3DLogitech%2BG203%26qid%3D1706345498%26sr%3D8-20-spons%26sp_csd%3Dd2lkZ2V0TmFtZT1zcF9idGY%26psc%3D1\n",
      "Image: https://m.media-amazon.com/images/I/61E2o4mO3pL._AC_UY218_.jpg\n",
      "Price: US$15\n",
      "99\n",
      "Reviews: 82\n",
      "Rating: 4.4 de 5 estrellas\n",
      "UUID: 4d3cf125-2ca5-40ed-92bd-f0b64a35c00b\n",
      "ASIN: B08SJ5Z8JL\n",
      "Sponsored: True\n",
      "Title: Redragon M612 Predator RGB - Ratón para juegos con cable de 8000 DPI con 11 botones programables y 5 modos retroiluminados, software compatible con teclas de bricolaje botón de disparo rápido\n",
      "Url: https://www.amazon.com/-/es/sspa/click?ie=UTF8&spc=MToyNTMxMjE4MjQ3MjYwMjY6MTcwNjM0NTQ5ODpzcF9idGY6MjAwMDQwNTk4NDU3NDk4OjowOjo&url=%2FRedragon-M612-Predator-RGB-retroiluminados%2Fdp%2FB08SJ5Z8JL%2Fref%3Dsr_1_21_sspa%3Fkeywords%3DLogitech%2BG203%26qid%3D1706345498%26sr%3D8-21-spons%26sp_csd%3Dd2lkZ2V0TmFtZT1zcF9idGY%26psc%3D1\n",
      "Image: https://m.media-amazon.com/images/I/61vF4LdktpL._AC_UY218_.jpg\n",
      "Price: US$19\n",
      "99\n",
      "Reviews: 3,109\n",
      "Rating: 4.6 de 5 estrellas\n",
      "UUID: b2034fbe-fc37-4e4e-b07a-129b3cbabea5\n",
      "ASIN: \n",
      "Sponsored: True\n",
      "Title: KOLMAX BT98 - Combo de teclado y mouse inalámbricos, triple modo de 2.4 G/con cable/Bluetooth, teclado y mouse para juegos, ergonómico recargable con retroiluminación RGB con perilla para\n",
      "Url: https://aax-us-iad.amazon.com/x/c/RBstVehHxgMMswcgBewcZaMAAAGNSh4IuQEAAAH2AQBvbm9fdHhuX2JpZDcgICBvbm9fdHhuX2ltcDEgICD9X8CX/https://www.amazon.com/KOLMAX-BT98-inal%C3%A1mbricos-ergon%C3%B3mico-retroiluminaci%C3%B3n/dp/B0CC9W48PV/ref=sxbs_sbv_search_btf?content-id=amzn1.sym.22ccaa29-5e1c-47a3-8708-3542e0c64fd0%3Aamzn1.sym.22ccaa29-5e1c-47a3-8708-3542e0c64fd0&cv_ct_cx=Logitech+G203&keywords=Logitech+G203&pd_rd_i=B0CC9W48PV&pd_rd_r=c729ed4c-f320-42a1-b433-18a6d726be2c&pd_rd_w=cTdKi&pd_rd_wg=ksrOr&pf_rd_p=22ccaa29-5e1c-47a3-8708-3542e0c64fd0&pf_rd_r=NYXE8BSF4G6C0572P993&qid=1706345498&sbo=RZvfv%2F%2FHxDF%2BO5021pAnSA%3D%3D&sr=1-1-73f7de28-3352-42ec-892a-2cfe411ee715\n",
      "Image: https://aax-us-iad.amazon.com/e/loi/imp?b=JBstVehHxgMMswcgBewcZaMAAAGNSh4I3QEAAAH2AQBvbm9fdHhuX2JpZDcgICBvbm9fdHhuX2ltcDEgICD9X8CX\n",
      "Price: US$57\n",
      "99\n",
      "Reviews: 1,231\n",
      "Rating: 4.1 de 5 estrellas\n",
      "UUID: c5e11601-8728-414e-921d-728cdb39f871\n",
      "ASIN: \n",
      "Sponsored: False\n"
     ]
    },
    {
     "ename": "NoSuchElementException",
     "evalue": "Message: no such element: Unable to locate element: {\"method\":\"tag name\",\"selector\":\"h2\"}\n  (Session info: chrome=121.0.6167.86); For documentation on this error, please visit: https://www.selenium.dev/documentation/webdriver/troubleshooting/errors#no-such-element-exception\nStacktrace:\n\tGetHandleVerifier [0x00007FF61AED5E42+3538674]\n\t(No symbol) [0x00007FF61AAF4C02]\n\t(No symbol) [0x00007FF61A9A5AEB]\n\t(No symbol) [0x00007FF61A9EBF4E]\n\t(No symbol) [0x00007FF61A9EC0CC]\n\t(No symbol) [0x00007FF61A9E12EC]\n\t(No symbol) [0x00007FF61AA0F0EF]\n\t(No symbol) [0x00007FF61A9E124A]\n\t(No symbol) [0x00007FF61AA0F2C0]\n\t(No symbol) [0x00007FF61AA2BDE3]\n\t(No symbol) [0x00007FF61AA0EE53]\n\t(No symbol) [0x00007FF61A9DF514]\n\t(No symbol) [0x00007FF61A9E0631]\n\tGetHandleVerifier [0x00007FF61AF06CAD+3738973]\n\tGetHandleVerifier [0x00007FF61AF5C506+4089270]\n\tGetHandleVerifier [0x00007FF61AF54823+4057299]\n\tGetHandleVerifier [0x00007FF61AC25C49+720121]\n\t(No symbol) [0x00007FF61AB0126F]\n\t(No symbol) [0x00007FF61AAFC304]\n\t(No symbol) [0x00007FF61AAFC432]\n\t(No symbol) [0x00007FF61AAEBD04]\n\tBaseThreadInitThunk [0x00007FFECE4F257D+29]\n\tRtlUserThreadStart [0x00007FFECFA8AA58+40]\n",
     "output_type": "error",
     "traceback": [
      "\u001b[1;31m---------------------------------------------------------------------------\u001b[0m",
      "\u001b[1;31mNoSuchElementException\u001b[0m                    Traceback (most recent call last)",
      "Cell \u001b[1;32mIn[4], line 17\u001b[0m\n\u001b[0;32m     13\u001b[0m     sponsored \u001b[38;5;241m=\u001b[39m \u001b[38;5;28;01mFalse\u001b[39;00m\n\u001b[0;32m     15\u001b[0m \u001b[38;5;28mprint\u001b[39m(\u001b[38;5;124mf\u001b[39m\u001b[38;5;124m\"\u001b[39m\u001b[38;5;124mSponsored: \u001b[39m\u001b[38;5;132;01m{\u001b[39;00msponsored\u001b[38;5;132;01m}\u001b[39;00m\u001b[38;5;124m\"\u001b[39m)\n\u001b[1;32m---> 17\u001b[0m title_h2 \u001b[38;5;241m=\u001b[39m \u001b[43mproduct\u001b[49m\u001b[38;5;241;43m.\u001b[39;49m\u001b[43mfind_element\u001b[49m\u001b[43m(\u001b[49m\u001b[43mBy\u001b[49m\u001b[38;5;241;43m.\u001b[39;49m\u001b[43mTAG_NAME\u001b[49m\u001b[43m,\u001b[49m\u001b[43m \u001b[49m\u001b[38;5;124;43m'\u001b[39;49m\u001b[38;5;124;43mh2\u001b[39;49m\u001b[38;5;124;43m'\u001b[39;49m\u001b[43m)\u001b[49m\n\u001b[0;32m     18\u001b[0m title \u001b[38;5;241m=\u001b[39m title_h2\u001b[38;5;241m.\u001b[39mtext\n\u001b[0;32m     19\u001b[0m \u001b[38;5;28mprint\u001b[39m(\u001b[38;5;124mf\u001b[39m\u001b[38;5;124m\"\u001b[39m\u001b[38;5;124mTitle: \u001b[39m\u001b[38;5;132;01m{\u001b[39;00mtitle\u001b[38;5;132;01m}\u001b[39;00m\u001b[38;5;124m\"\u001b[39m)\n",
      "File \u001b[1;32mc:\\trabajos\\reviewshub\\scrapper\\env\\Lib\\site-packages\\selenium\\webdriver\\remote\\webelement.py:416\u001b[0m, in \u001b[0;36mWebElement.find_element\u001b[1;34m(self, by, value)\u001b[0m\n\u001b[0;32m    413\u001b[0m     by \u001b[38;5;241m=\u001b[39m By\u001b[38;5;241m.\u001b[39mCSS_SELECTOR\n\u001b[0;32m    414\u001b[0m     value \u001b[38;5;241m=\u001b[39m \u001b[38;5;124mf\u001b[39m\u001b[38;5;124m'\u001b[39m\u001b[38;5;124m[name=\u001b[39m\u001b[38;5;124m\"\u001b[39m\u001b[38;5;132;01m{\u001b[39;00mvalue\u001b[38;5;132;01m}\u001b[39;00m\u001b[38;5;124m\"\u001b[39m\u001b[38;5;124m]\u001b[39m\u001b[38;5;124m'\u001b[39m\n\u001b[1;32m--> 416\u001b[0m \u001b[38;5;28;01mreturn\u001b[39;00m \u001b[38;5;28;43mself\u001b[39;49m\u001b[38;5;241;43m.\u001b[39;49m\u001b[43m_execute\u001b[49m\u001b[43m(\u001b[49m\u001b[43mCommand\u001b[49m\u001b[38;5;241;43m.\u001b[39;49m\u001b[43mFIND_CHILD_ELEMENT\u001b[49m\u001b[43m,\u001b[49m\u001b[43m \u001b[49m\u001b[43m{\u001b[49m\u001b[38;5;124;43m\"\u001b[39;49m\u001b[38;5;124;43musing\u001b[39;49m\u001b[38;5;124;43m\"\u001b[39;49m\u001b[43m:\u001b[49m\u001b[43m \u001b[49m\u001b[43mby\u001b[49m\u001b[43m,\u001b[49m\u001b[43m \u001b[49m\u001b[38;5;124;43m\"\u001b[39;49m\u001b[38;5;124;43mvalue\u001b[39;49m\u001b[38;5;124;43m\"\u001b[39;49m\u001b[43m:\u001b[49m\u001b[43m \u001b[49m\u001b[43mvalue\u001b[49m\u001b[43m}\u001b[49m\u001b[43m)\u001b[49m[\u001b[38;5;124m\"\u001b[39m\u001b[38;5;124mvalue\u001b[39m\u001b[38;5;124m\"\u001b[39m]\n",
      "File \u001b[1;32mc:\\trabajos\\reviewshub\\scrapper\\env\\Lib\\site-packages\\selenium\\webdriver\\remote\\webelement.py:394\u001b[0m, in \u001b[0;36mWebElement._execute\u001b[1;34m(self, command, params)\u001b[0m\n\u001b[0;32m    392\u001b[0m     params \u001b[38;5;241m=\u001b[39m {}\n\u001b[0;32m    393\u001b[0m params[\u001b[38;5;124m\"\u001b[39m\u001b[38;5;124mid\u001b[39m\u001b[38;5;124m\"\u001b[39m] \u001b[38;5;241m=\u001b[39m \u001b[38;5;28mself\u001b[39m\u001b[38;5;241m.\u001b[39m_id\n\u001b[1;32m--> 394\u001b[0m \u001b[38;5;28;01mreturn\u001b[39;00m \u001b[38;5;28;43mself\u001b[39;49m\u001b[38;5;241;43m.\u001b[39;49m\u001b[43m_parent\u001b[49m\u001b[38;5;241;43m.\u001b[39;49m\u001b[43mexecute\u001b[49m\u001b[43m(\u001b[49m\u001b[43mcommand\u001b[49m\u001b[43m,\u001b[49m\u001b[43m \u001b[49m\u001b[43mparams\u001b[49m\u001b[43m)\u001b[49m\n",
      "File \u001b[1;32mc:\\trabajos\\reviewshub\\scrapper\\env\\Lib\\site-packages\\selenium\\webdriver\\remote\\webdriver.py:344\u001b[0m, in \u001b[0;36mWebDriver.execute\u001b[1;34m(self, driver_command, params)\u001b[0m\n\u001b[0;32m    342\u001b[0m response \u001b[38;5;241m=\u001b[39m \u001b[38;5;28mself\u001b[39m\u001b[38;5;241m.\u001b[39mcommand_executor\u001b[38;5;241m.\u001b[39mexecute(driver_command, params)\n\u001b[0;32m    343\u001b[0m \u001b[38;5;28;01mif\u001b[39;00m response:\n\u001b[1;32m--> 344\u001b[0m     \u001b[38;5;28;43mself\u001b[39;49m\u001b[38;5;241;43m.\u001b[39;49m\u001b[43merror_handler\u001b[49m\u001b[38;5;241;43m.\u001b[39;49m\u001b[43mcheck_response\u001b[49m\u001b[43m(\u001b[49m\u001b[43mresponse\u001b[49m\u001b[43m)\u001b[49m\n\u001b[0;32m    345\u001b[0m     response[\u001b[38;5;124m\"\u001b[39m\u001b[38;5;124mvalue\u001b[39m\u001b[38;5;124m\"\u001b[39m] \u001b[38;5;241m=\u001b[39m \u001b[38;5;28mself\u001b[39m\u001b[38;5;241m.\u001b[39m_unwrap_value(response\u001b[38;5;241m.\u001b[39mget(\u001b[38;5;124m\"\u001b[39m\u001b[38;5;124mvalue\u001b[39m\u001b[38;5;124m\"\u001b[39m, \u001b[38;5;28;01mNone\u001b[39;00m))\n\u001b[0;32m    346\u001b[0m     \u001b[38;5;28;01mreturn\u001b[39;00m response\n",
      "File \u001b[1;32mc:\\trabajos\\reviewshub\\scrapper\\env\\Lib\\site-packages\\selenium\\webdriver\\remote\\errorhandler.py:229\u001b[0m, in \u001b[0;36mErrorHandler.check_response\u001b[1;34m(self, response)\u001b[0m\n\u001b[0;32m    227\u001b[0m         alert_text \u001b[38;5;241m=\u001b[39m value[\u001b[38;5;124m\"\u001b[39m\u001b[38;5;124malert\u001b[39m\u001b[38;5;124m\"\u001b[39m]\u001b[38;5;241m.\u001b[39mget(\u001b[38;5;124m\"\u001b[39m\u001b[38;5;124mtext\u001b[39m\u001b[38;5;124m\"\u001b[39m)\n\u001b[0;32m    228\u001b[0m     \u001b[38;5;28;01mraise\u001b[39;00m exception_class(message, screen, stacktrace, alert_text)  \u001b[38;5;66;03m# type: ignore[call-arg]  # mypy is not smart enough here\u001b[39;00m\n\u001b[1;32m--> 229\u001b[0m \u001b[38;5;28;01mraise\u001b[39;00m exception_class(message, screen, stacktrace)\n",
      "\u001b[1;31mNoSuchElementException\u001b[0m: Message: no such element: Unable to locate element: {\"method\":\"tag name\",\"selector\":\"h2\"}\n  (Session info: chrome=121.0.6167.86); For documentation on this error, please visit: https://www.selenium.dev/documentation/webdriver/troubleshooting/errors#no-such-element-exception\nStacktrace:\n\tGetHandleVerifier [0x00007FF61AED5E42+3538674]\n\t(No symbol) [0x00007FF61AAF4C02]\n\t(No symbol) [0x00007FF61A9A5AEB]\n\t(No symbol) [0x00007FF61A9EBF4E]\n\t(No symbol) [0x00007FF61A9EC0CC]\n\t(No symbol) [0x00007FF61A9E12EC]\n\t(No symbol) [0x00007FF61AA0F0EF]\n\t(No symbol) [0x00007FF61A9E124A]\n\t(No symbol) [0x00007FF61AA0F2C0]\n\t(No symbol) [0x00007FF61AA2BDE3]\n\t(No symbol) [0x00007FF61AA0EE53]\n\t(No symbol) [0x00007FF61A9DF514]\n\t(No symbol) [0x00007FF61A9E0631]\n\tGetHandleVerifier [0x00007FF61AF06CAD+3738973]\n\tGetHandleVerifier [0x00007FF61AF5C506+4089270]\n\tGetHandleVerifier [0x00007FF61AF54823+4057299]\n\tGetHandleVerifier [0x00007FF61AC25C49+720121]\n\t(No symbol) [0x00007FF61AB0126F]\n\t(No symbol) [0x00007FF61AAFC304]\n\t(No symbol) [0x00007FF61AAFC432]\n\t(No symbol) [0x00007FF61AAEBD04]\n\tBaseThreadInitThunk [0x00007FFECE4F257D+29]\n\tRtlUserThreadStart [0x00007FFECFA8AA58+40]\n"
     ]
    }
   ],
   "source": [
    "results = chrome.find_element(By.CLASS_NAME, 's-result-list')\n",
    "products = results.find_elements(By.CLASS_NAME, 's-result-item')\n",
    "for product in products:\n",
    "    uuid = product.get_attribute('data-uuid')\n",
    "    asin = product.get_attribute('data-asin')\n",
    "    if uuid:\n",
    "        print(f\"UUID: {uuid}\")\n",
    "        print(f\"ASIN: {asin}\")\n",
    "        try:\n",
    "            sponsored = product.find_element(By.CLASS_NAME, 'puis-sponsored-label-info-icon')\n",
    "            sponsored = True\n",
    "        except:\n",
    "            sponsored = False\n",
    "        \n",
    "        print(f\"Sponsored: {sponsored}\")\n",
    "\n",
    "        title_h2 = product.find_element(By.TAG_NAME, 'h2')\n",
    "        title = title_h2.text\n",
    "        print(f\"Title: {title}\")\n",
    "\n",
    "        url = title_h2.find_element(By.TAG_NAME, 'a').get_attribute('href')\n",
    "        print(f\"Url: {url}\")\n",
    "\n",
    "        image = product.find_element(By.TAG_NAME, 'img').get_attribute('src')\n",
    "        print(f\"Image: {image}\")\n",
    "        try:\n",
    "            price = product.find_element(By.CLASS_NAME, 'a-price').text\n",
    "            #price = price.find_element(By.CLASS_NAME, 'a-offscreen').text\n",
    "            print(f\"Price: {price}\")\n",
    "        except:\n",
    "            print(\"No price\")\n",
    "\n",
    "        try:\n",
    "            reviews_div = product.find_element(By.CLASS_NAME, 'a-row.a-size-small')\n",
    "            reviews = reviews_div.find_element(By.CLASS_NAME, 'a-size-base').text\n",
    "            print(f\"Reviews: {reviews}\")\n",
    "\n",
    "            rating_div = reviews_div.find_element(By.TAG_NAME, 'span')\n",
    "            rating = rating_div.get_attribute('aria-label')\n",
    "            print(f\"Rating: {rating}\")\n",
    "        except:\n",
    "            print(\"No reviews\")        \n"
   ]
  },
  {
   "cell_type": "code",
   "execution_count": 23,
   "metadata": {},
   "outputs": [],
   "source": [
    "links = chrome.find_elements(By.TAG_NAME, 'a')\n",
    "buttons = links.find_elements(By.CLASS_NAME, 'a-button-text')\n",
    "for b in buttons:\n",
    "    print(f\"Button -> {b.text}\")"
   ]
  },
  {
   "cell_type": "markdown",
   "metadata": {},
   "source": [
    "## Close session"
   ]
  },
  {
   "cell_type": "code",
   "execution_count": 5,
   "metadata": {},
   "outputs": [],
   "source": [
    "chrome.quit()"
   ]
  }
 ],
 "metadata": {
  "kernelspec": {
   "display_name": "env",
   "language": "python",
   "name": "python3"
  },
  "language_info": {
   "codemirror_mode": {
    "name": "ipython",
    "version": 3
   },
   "file_extension": ".py",
   "mimetype": "text/x-python",
   "name": "python",
   "nbconvert_exporter": "python",
   "pygments_lexer": "ipython3",
   "version": "3.11.7"
  }
 },
 "nbformat": 4,
 "nbformat_minor": 2
}
