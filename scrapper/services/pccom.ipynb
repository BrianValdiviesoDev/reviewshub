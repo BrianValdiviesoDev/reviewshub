{
 "cells": [
  {
   "cell_type": "code",
   "execution_count": 1,
   "metadata": {},
   "outputs": [],
   "source": [
    "from selenium import webdriver\n",
    "from selenium.webdriver.common.by import By\n",
    "import time\n",
    "from selenium.webdriver.chrome.options import Options\n",
    "from selenium.webdriver.support import expected_conditions as EC\n",
    "from datetime import datetime\n",
    "from selenium.webdriver.support.ui import WebDriverWait\n",
    "from selenium.webdriver.support import expected_conditions as EC\n",
    "from selenium.webdriver.chrome.options import Options"
   ]
  },
  {
   "cell_type": "markdown",
   "metadata": {},
   "source": [
    "## Read multiple URLs"
   ]
  },
  {
   "cell_type": "code",
   "execution_count": 2,
   "metadata": {},
   "outputs": [
    {
     "name": "stdout",
     "output_type": "stream",
     "text": [
      "READING https://www.pccomponentes.com/auriculares\n",
      "LINKS FOUNDED: 40\n",
      "https://www.pccomponentes.com/plantronics-cs540-monoaural\n",
      "PRODUCTS FOUNDED: 0\n",
      "READING https://www.pccomponentes.com/teclados\n",
      "LINKS FOUNDED: 40\n",
      "https://www.pccomponentes.com/logitech-mx-keys-mini-teclado-bluetooth-para-mac\n",
      "PRODUCTS FOUNDED: 0\n",
      "READING https://www.pccomponentes.com/ratones\n",
      "LINKS FOUNDED: 43\n",
      "https://www.pccomponentes.com/razer-pro-click-raton-ergonomico-inalambrico-16000-dpi-blanco\n",
      "PRODUCTS FOUNDED: 43\n"
     ]
    },
    {
     "ename": "",
     "evalue": "",
     "output_type": "error",
     "traceback": [
      "\u001b[1;31mThe Kernel crashed while executing code in the current cell or a previous cell. \n",
      "\u001b[1;31mPlease review the code in the cell(s) to identify a possible cause of the failure. \n",
      "\u001b[1;31mClick <a href='https://aka.ms/vscodeJupyterKernelCrash'>here</a> for more info. \n",
      "\u001b[1;31mView Jupyter <a href='command:jupyter.viewOutput'>log</a> for further details."
     ]
    }
   ],
   "source": [
    "urls = ['https://www.pccomponentes.com/auriculares',\n",
    "        'https://www.pccomponentes.com/teclados',\n",
    "        'https://www.pccomponentes.com/ratones',\n",
    "        'https://www.pccomponentes.com/sillas-gaming',\n",
    "        'https://www.pccomponentes.com/monitores-pc',\n",
    "        'https://www.pccomponentes.com/smartphone-moviles'\n",
    "        ]\n",
    "for url in urls:\n",
    "        category = url.split('.com/')[-1]\n",
    "        chrome = webdriver.Chrome()\n",
    "        chrome.get(url)\n",
    "        print(\"READING\", url)\n",
    "        try:\n",
    "                element = WebDriverWait(chrome, 10).until(\n",
    "                        EC.presence_of_element_located((By.ID, \"cookiesAcceptAll\"))\n",
    "                )\n",
    "                chrome.find_element(By.ID, 'cookiesAcceptAll').click()\n",
    "        except:\n",
    "                print(\"No hay cookies\", url)\n",
    "                pass\n",
    "        \n",
    "        grid = chrome.find_element(By.ID, 'product-grid')\n",
    "        products = grid.find_elements(By.TAG_NAME, 'div')\n",
    "        links = grid.find_elements(By.TAG_NAME, 'a')\n",
    "        products_founded = 0\n",
    "        print(f\"LINKS FOUNDED: {len(links)}\")\n",
    "        for link in links:\n",
    "                if link.get_attribute('data-product-id'):\n",
    "                        product = link.find_element(By.CLASS_NAME, 'product-card')\n",
    "                        name = ''\n",
    "                        price = ''\n",
    "                        reviews = ''\n",
    "                        marketplace = False\n",
    "                        if 'is-marketplace' in product.get_attribute('class'):\n",
    "                                marketplace = True\n",
    "                        try:\n",
    "                                name = product.find_element(By.TAG_NAME, 'h3').text\n",
    "                        except:\n",
    "                                pass\n",
    "                        try:\n",
    "                                price = product.find_element(By.CLASS_NAME, 'product-card__price-container').text.replace('€','')\n",
    "                        except:\n",
    "                                pass\n",
    "                        try:\n",
    "                                reviews = product.find_element(By.CLASS_NAME, 'hKnlja').text.replace('(','').replace(')','')\n",
    "                        except:\n",
    "                                pass\n",
    "                        \n",
    "                        if name!='' and price!='' and reviews!='':\n",
    "                                products_founded += 1\n",
    "                                with open('products.csv', 'a', newline='') as file:\n",
    "                                        file.write(f'{url};{category};{name};{price};{reviews};{marketplace}\\n')\n",
    "                        else:\n",
    "                                print(f\"Product error: \", link.get_attribute('href'))\n",
    "                else:\n",
    "                        print(f\"Not product link: {link.get_attribute('href')}\")   \n",
    "        print(f\"PRODUCTS FOUNDED: {products_founded}\")\n",
    "        chrome.quit()\n",
    "\n"
   ]
  },
  {
   "cell_type": "markdown",
   "metadata": {},
   "source": [
    "## Analyze"
   ]
  },
  {
   "cell_type": "code",
   "execution_count": 31,
   "metadata": {},
   "outputs": [],
   "source": [
    "import pandas as pd"
   ]
  },
  {
   "cell_type": "code",
   "execution_count": 32,
   "metadata": {},
   "outputs": [
    {
     "name": "stdout",
     "output_type": "stream",
     "text": [
      "Products: 32\n",
      "\n",
      "REVIEWS\n",
      "AVG: 899.3125\n",
      "MAX: 5490.0\n",
      "MIN: 1.0\n",
      "\n",
      "PRICE\n",
      "AVG: 71.80312500000001\n",
      "MAX: 179.0\n",
      "MIN: 10.99\n",
      "\n",
      "IMPROVE PRODUCTS\n",
      "                                                 name   price  reviews\n",
      "48  Mountain MacroPad Controlador para Contenido e...   94.99      1.0\n",
      "44            Apple Magic Keyboard con Touch ID Plata  139.98     11.0\n",
      "2   Logitech G Pro X TKL Lightspeed Teclado Inalám...  171.99     16.0\n",
      "36  Apple Magic Keyboard con Touch ID y Teclado Nu...  179.00     17.0\n",
      "40  Apple Magic Keyboard con Touch ID y Teclado Nu...  179.00     20.0\n",
      "51   Logitech MX Keys Mini Teclado Bluetooth para Mac   81.99     22.0\n",
      "5   Logitech MX Keys S Teclado Inalámbrico Bluetoo...   97.99     28.0\n",
      "43  Logitech MX Keys S Teclado Inalámbrico Bluetoo...   97.99     28.0\n",
      "12  Newskill Serike V2 Teclado Mecánico Gaming RGB...   97.99     74.0\n",
      "46  Newskill Serike V2 TKL Teclado Mecánico Gaming...   82.99     98.0\n"
     ]
    }
   ],
   "source": [
    "column_names = ['url', 'category', 'name', 'price', 'reviews', 'marketplace'] \n",
    "df = pd.read_csv('products.csv', sep=';',encoding='ISO-8859-1', names=column_names, decimal=',')\n",
    "filtered = df.dropna(subset=['reviews'])\n",
    "\n",
    "print(f\"Products: {filtered['url'].count()}\")\n",
    "print()\n",
    "print(\"REVIEWS\")\n",
    "print(f\"AVG: {filtered['reviews'].mean()}\")\n",
    "print(f\"MAX: {filtered['reviews'].max()}\")\n",
    "print(f\"MIN: {filtered['reviews'].min()}\")\n",
    "print()\n",
    "print(\"PRICE\")\n",
    "print(f\"AVG: {filtered['price'].mean()}\")\n",
    "print(f\"MAX: {filtered['price'].max()}\")\n",
    "print(f\"MIN: {filtered['price'].min()}\")\n",
    "\n",
    "print()\n",
    "top_10_least_reviews = filtered.nsmallest(10, 'reviews')\n",
    "print(\"IMPROVE PRODUCTS\")\n",
    "print(top_10_least_reviews[['name','price','reviews']])"
   ]
  }
 ],
 "metadata": {
  "kernelspec": {
   "display_name": "env",
   "language": "python",
   "name": "python3"
  },
  "language_info": {
   "codemirror_mode": {
    "name": "ipython",
    "version": 3
   },
   "file_extension": ".py",
   "mimetype": "text/x-python",
   "name": "python",
   "nbconvert_exporter": "python",
   "pygments_lexer": "ipython3",
   "version": "3.11.8"
  }
 },
 "nbformat": 4,
 "nbformat_minor": 2
}
